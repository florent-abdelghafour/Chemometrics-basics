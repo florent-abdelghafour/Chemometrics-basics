{
 "cells": [
  {
   "cell_type": "code",
   "execution_count": null,
   "metadata": {},
   "outputs": [],
   "source": [
    "import os\n",
    "import numpy as np\n",
    "import spectral.io.envi as envi\n",
    "import matplotlib.pyplot as plt\n",
    "from hsi_utils import *\n",
    "\n",
    "from sklearn.decomposition import PCA"
   ]
  },
  {
   "cell_type": "code",
   "execution_count": null,
   "metadata": {},
   "outputs": [],
   "source": [
    "#if using a jupyter notbook need a graphical backend TkaAgg or Qt5Agg if using spyder type %matplotlib auto in console\n",
    "import matplotlib\n",
    "matplotlib.use('TkAgg') "
   ]
  },
  {
   "cell_type": "code",
   "execution_count": null,
   "metadata": {},
   "outputs": [],
   "source": [
    "# Define the path to the main data folder: code will iterate trough relvant files\n",
    "main_data_folder = './data/img_test'    \n",
    "\n",
    "#check if data path exists !\n",
    "print(os.path.isdir(main_data_folder))\n",
    "\n",
    "# Initialize the HSI dataset and define file extension: contains all paths of hdr and data files\n",
    "dataset =HsiDataset(main_data_folder,data_ext='hyspex') #raw files from the camera have '.hyspex' extension , corrected files have '.ref' extension\n",
    "nb_images = len(dataset)\n",
    "print(f\"dataset contains {nb_images} image(s)\")"
   ]
  },
  {
   "cell_type": "code",
   "execution_count": null,
   "metadata": {},
   "outputs": [],
   "source": [
    "HSIreader = HsiReader(dataset)"
   ]
  },
  {
   "cell_type": "code",
   "execution_count": null,
   "metadata": {},
   "outputs": [],
   "source": [
    "# Loop through each hyperspectral image in the dataset\n",
    "# for idx in range(len(dataset)):\n",
    "#     HSIreader.read_image(idx)\n",
    "\n",
    "#choose an image to process e.g. first img idx=0\n",
    "idx=0   \n",
    "HSIreader.read_image(idx)\n",
    "print(f\"read image{HSIreader.current_name}\")\n",
    "\n",
    "metadata = HSIreader.current_metadata\n",
    "print(metadata)\n",
    "\n",
    "#define wavelenrghts (for plots mostly)\n",
    "wv =HSIreader.get_wavelength()\n",
    "wv = [int(l) for l in wv]\n",
    "\n",
    "# Get the pseudo rgb imahe from hyperspectral data and plot image\n",
    "pseudo_rgb= HSIreader.get_rgb()\n",
    "# plt.figure()\n",
    "# plt.imshow(pseudo_rgb)\n",
    "# plt.axis('off')\n",
    "# plt.show()"
   ]
  },
  {
   "cell_type": "code",
   "execution_count": null,
   "metadata": {},
   "outputs": [],
   "source": [
    "#check spectral data by manually selecting pixel-spectrum samples and plot\n",
    "HSIreader.get_spectrum();"
   ]
  },
  {
   "cell_type": "code",
   "execution_count": null,
   "metadata": {},
   "outputs": [],
   "source": [
    "# Extract spectral sample from HSI for analysis\n",
    "\n",
    "#read HSI specs without laoding it in memory!\n",
    "hsi=HSIreader.current_image\n",
    "n_rows, n_cols, n_channels =hsi.shape\n",
    "\n",
    "n_samples =1000\n",
    "# draw random samples and load them as a data array\n",
    "x_idx = np.random.randint(0, n_cols, size=n_samples)\n",
    "y_idx = np.random.randint(0, n_rows, size=n_samples)\n",
    "spectral_samples = np.zeros((n_samples, n_channels), dtype=hsi.dtype)\n",
    "coords = list(zip(y_idx, x_idx))\n",
    "spectral_samples = np.array(HSIreader.extract_pixels(coords))"
   ]
  },
  {
   "cell_type": "code",
   "execution_count": null,
   "metadata": {},
   "outputs": [],
   "source": [
    "plt.figure()\n",
    "for i in range(n_samples):\n",
    "    plt.plot(wv, spectral_samples[i, :], label=f'Sample {i+1}' if i < 5 else \"\", alpha=0.6)\n",
    "plt.xlabel(\"Wavelength\")\n",
    "plt.ylabel(\"Absorbance\")\n",
    "plt.title(\"Spectral samples\")\n",
    "plt.show()\n"
   ]
  },
  {
   "cell_type": "code",
   "execution_count": null,
   "metadata": {},
   "outputs": [],
   "source": [
    "#perform PCA\n",
    "#In PCA space data X= TP' i.e. factorial decomposition into loadings (vectorial subspaces) and scores (orthogonal distances to loadings)\n",
    "\n",
    "nb_pca_comp =3\n",
    "pca = PCA(n_components=nb_pca_comp)\n",
    "pca_scores = pca.fit_transform(spectral_samples)\n",
    "pca_loadings =pca.components_.T*np.sqrt(pca.explained_variance_) \n",
    "      \n",
    "default_colors = plt.rcParams['axes.prop_cycle'].by_key()['color']\n",
    "plt.figure()\n",
    "for i in range(np.shape(pca_loadings)[1]):\n",
    "    lab= 'PC'+str(i+1)\n",
    "    plt.plot(wv,pca_loadings[:,i],default_colors[i], label=lab)\n",
    "plt.xlabel(\"Wavelength (nm)\")\n",
    "plt.ylabel(\"Absorbance\")  \n",
    "plt.grid()\n",
    "plt.title('Principal components')  \n",
    "plt.show()\n",
    "\n",
    "#Or plot one by one to avoid Variance scaling\n",
    "# default_colors = plt.rcParams['axes.prop_cycle'].by_key()['color']\n",
    "# for i in range(np.shape(pca_loadings)[1]):\n",
    "#     plt.figure()\n",
    "#     plt.plot(wv,pca_loadings[:,i],default_colors[i])\n",
    "#     plt.xlabel(\"Wavelength (nm)\")\n",
    "#     plt.ylabel(\"Absorbance\")  \n",
    "#     lab= 'PC'+str(i+1)\n",
    "#     plt.title(lab) \n",
    "#     plt.grid()  \n",
    "# plt.show()"
   ]
  },
  {
   "cell_type": "code",
   "execution_count": null,
   "metadata": {},
   "outputs": [],
   "source": []
  },
  {
   "cell_type": "code",
   "execution_count": null,
   "metadata": {},
   "outputs": [],
   "source": []
  }
 ],
 "metadata": {
  "kernelspec": {
   "display_name": "agrotic_env",
   "language": "python",
   "name": "python3"
  },
  "language_info": {
   "codemirror_mode": {
    "name": "ipython",
    "version": 3
   },
   "file_extension": ".py",
   "mimetype": "text/x-python",
   "name": "python",
   "nbconvert_exporter": "python",
   "pygments_lexer": "ipython3",
   "version": "3.11.5"
  }
 },
 "nbformat": 4,
 "nbformat_minor": 2
}
