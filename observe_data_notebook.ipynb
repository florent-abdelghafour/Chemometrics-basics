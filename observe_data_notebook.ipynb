{
 "cells": [
  {
   "cell_type": "code",
   "execution_count": 1,
   "metadata": {},
   "outputs": [],
   "source": [
    "import os\n",
    "import numpy as np\n",
    "import spectral.io.envi as envi\n",
    "import matplotlib.pyplot as plt\n",
    "from hsi_utils import *\n",
    "\n",
    "from sklearn.decomposition import PCA"
   ]
  },
  {
   "cell_type": "code",
   "execution_count": 2,
   "metadata": {},
   "outputs": [],
   "source": [
    "#if using a jupyter notbook need a graphical backend TkaAgg or Qt5Agg if using spyder type %matplotlib auto in console\n",
    "import matplotlib\n",
    "matplotlib.use('TkAgg') "
   ]
  },
  {
   "cell_type": "code",
   "execution_count": 35,
   "metadata": {},
   "outputs": [
    {
     "name": "stdout",
     "output_type": "stream",
     "text": [
      "True\n",
      "dataset contains 1 image(s)\n"
     ]
    }
   ],
   "source": [
    "# Define the path to the main data folder: code will iterate trough relvant files\n",
    "main_data_folder = './data/img_test/ref_corrected'    \n",
    "\n",
    "#check if data path exists !\n",
    "print(os.path.isdir(main_data_folder))\n",
    "\n",
    "# Initialize the HSI dataset and define file extension: contains all paths of hdr and data files\n",
    "dataset =HsiDataset(main_data_folder,data_ext='ref') #raw files from the camera have '.hyspex' extension , corrected files have '.ref' extension\n",
    "nb_images = len(dataset)\n",
    "print(f\"dataset contains {nb_images} image(s)\")"
   ]
  },
  {
   "cell_type": "code",
   "execution_count": 36,
   "metadata": {},
   "outputs": [],
   "source": [
    "HSIreader = HsiReader(dataset)"
   ]
  },
  {
   "cell_type": "code",
   "execution_count": 37,
   "metadata": {},
   "outputs": [
    {
     "name": "stdout",
     "output_type": "stream",
     "text": [
      "read imageBarley_swir_30cm_SWIR_384me_SN3145_2700us_2024-07-19T100942_raw_ref\n",
      "{'description': 'Frameperiod = 3500\\nIntegration time = 2700\\nBinning = 1\\nNumber of frames = 1094\\nAperture size = 0.005000\\ndw = 1\\nEQ = 0\\nLens = 1\\nCamera configuration (lens/filter/gain) = 30 cm\\nHSNR = 0\\nCalibAvailable = 0\\nNumber of background = 200\\nPixelsize x = 0.00072999999999999996\\nPixelsize y = 0.00072999999999999996\\nID = SWIR_384me_SN3145\\nComment =\\nSerialnumber = 3145\\nScanningmode = Ground', 'samples': '384', 'lines': '1094', 'bands': '288', 'header offset': '0', 'file type': 'ENVI Standard', 'data type': '12', 'interleave': 'bip', 'byte order': '0', 'data ignore value': '65535', 'default bands': ['50', '130', '220'], 'wavelength units': 'nm', 'wavelength': ['953.320143', '958.762294', '964.204445', '969.646597', '975.088748', '980.530899', '985.973051', '991.415202', '996.857353', '1002.299505', '1007.741656', '1013.183807', '1018.625959', '1024.068110', '1029.510261', '1034.952413', '1040.394564', '1045.836715', '1051.278867', '1056.721018', '1062.163169', '1067.605321', '1073.047472', '1078.489623', '1083.931774', '1089.373926', '1094.816077', '1100.258228', '1105.700380', '1111.142531', '1116.584682', '1122.026834', '1127.468985', '1132.911136', '1138.353288', '1143.795439', '1149.237590', '1154.679742', '1160.121893', '1165.564044', '1171.006196', '1176.448347', '1181.890498', '1187.332650', '1192.774801', '1198.216952', '1203.659104', '1209.101255', '1214.543406', '1219.985558', '1225.427709', '1230.869860', '1236.312011', '1241.754163', '1247.196314', '1252.638465', '1258.080617', '1263.522768', '1268.964919', '1274.407071', '1279.849222', '1285.291373', '1290.733525', '1296.175676', '1301.617827', '1307.059979', '1312.502130', '1317.944281', '1323.386433', '1328.828584', '1334.270735', '1339.712887', '1345.155038', '1350.597189', '1356.039341', '1361.481492', '1366.923643', '1372.365795', '1377.807946', '1383.250097', '1388.692249', '1394.134400', '1399.576551', '1405.018702', '1410.460854', '1415.903005', '1421.345156', '1426.787308', '1432.229459', '1437.671610', '1443.113762', '1448.555913', '1453.998064', '1459.440216', '1464.882367', '1470.324518', '1475.766670', '1481.208821', '1486.650972', '1492.093124', '1497.535275', '1502.977426', '1508.419578', '1513.861729', '1519.303880', '1524.746032', '1530.188183', '1535.630334', '1541.072486', '1546.514637', '1551.956788', '1557.398939', '1562.841091', '1568.283242', '1573.725393', '1579.167545', '1584.609696', '1590.051847', '1595.493999', '1600.936150', '1606.378301', '1611.820453', '1617.262604', '1622.704755', '1628.146907', '1633.589058', '1639.031209', '1644.473361', '1649.915512', '1655.357663', '1660.799815', '1666.241966', '1671.684117', '1677.126269', '1682.568420', '1688.010571', '1693.452723', '1698.894874', '1704.337025', '1709.779176', '1715.221328', '1720.663479', '1726.105630', '1731.547782', '1736.989933', '1742.432084', '1747.874236', '1753.316387', '1758.758538', '1764.200690', '1769.642841', '1775.084992', '1780.527144', '1785.969295', '1791.411446', '1796.853598', '1802.295749', '1807.737900', '1813.180052', '1818.622203', '1824.064354', '1829.506506', '1834.948657', '1840.390808', '1845.832960', '1851.275111', '1856.717262', '1862.159414', '1867.601565', '1873.043716', '1878.485867', '1883.928019', '1889.370170', '1894.812321', '1900.254473', '1905.696624', '1911.138775', '1916.580927', '1922.023078', '1927.465229', '1932.907381', '1938.349532', '1943.791683', '1949.233835', '1954.675986', '1960.118137', '1965.560289', '1971.002440', '1976.444591', '1981.886743', '1987.328894', '1992.771045', '1998.213197', '2003.655348', '2009.097499', '2014.539651', '2019.981802', '2025.423953', '2030.866104', '2036.308256', '2041.750407', '2047.192558', '2052.634710', '2058.076861', '2063.519012', '2068.961164', '2074.403315', '2079.845466', '2085.287618', '2090.729769', '2096.171920', '2101.614072', '2107.056223', '2112.498374', '2117.940526', '2123.382677', '2128.824828', '2134.266980', '2139.709131', '2145.151282', '2150.593434', '2156.035585', '2161.477736', '2166.919888', '2172.362039', '2177.804190', '2183.246341', '2188.688493', '2194.130644', '2199.572795', '2205.014947', '2210.457098', '2215.899249', '2221.341401', '2226.783552', '2232.225703', '2237.667855', '2243.110006', '2248.552157', '2253.994309', '2259.436460', '2264.878611', '2270.320763', '2275.762914', '2281.205065', '2286.647217', '2292.089368', '2297.531519', '2302.973671', '2308.415822', '2313.857973', '2319.300125', '2324.742276', '2330.184427', '2335.626579', '2341.068730', '2346.510881', '2351.953032', '2357.395184', '2362.837335', '2368.279486', '2373.721638', '2379.163789', '2384.605940', '2390.048092', '2395.490243', '2400.932394', '2406.374546', '2411.816697', '2417.258848', '2422.701000', '2428.143151', '2433.585302', '2439.027454', '2444.469605', '2449.911756', '2455.353908', '2460.796059', '2466.238210', '2471.680362', '2477.122513', '2482.564664', '2488.006816', '2493.448967', '2498.891118', '2504.333269', '2509.775421', '2515.217572']}\n",
      "RGB channels: [50, 130, 220]\n"
     ]
    }
   ],
   "source": [
    "# Loop through each hyperspectral image in the dataset\n",
    "# for idx in range(len(dataset)):\n",
    "#     HSIreader.read_image(idx)\n",
    "\n",
    "#choose an image to process e.g. first img idx=0\n",
    "idx=0   \n",
    "HSIreader.read_image(idx)\n",
    "print(f\"read image{HSIreader.current_name}\")\n",
    "\n",
    "metadata = HSIreader.current_metadata\n",
    "print(metadata)\n",
    "\n",
    "#define wavelenrghts (for plots mostly)\n",
    "wv =HSIreader.get_wavelength()\n",
    "wv = [int(l) for l in wv]\n",
    "\n",
    "# Get the pseudo rgb imahe from hyperspectral data and plot image\n",
    "pseudo_rgb= HSIreader.get_rgb()\n",
    "# plt.figure()\n",
    "# plt.imshow(pseudo_rgb)\n",
    "# plt.axis('off')\n",
    "# plt.show(block=False)"
   ]
  },
  {
   "cell_type": "code",
   "execution_count": 38,
   "metadata": {},
   "outputs": [
    {
     "name": "stdout",
     "output_type": "stream",
     "text": [
      "RGB channels: [50, 130, 220]\n"
     ]
    }
   ],
   "source": [
    "#check spectral data by manually selecting pixel-spectrum samples and plot\n",
    "HSIreader.get_spectrum();"
   ]
  },
  {
   "cell_type": "code",
   "execution_count": 17,
   "metadata": {},
   "outputs": [],
   "source": [
    "# Extract spectral sample from HSI for analysis\n",
    "\n",
    "#read HSI specs without laoding it in memory!\n",
    "hsi=HSIreader.current_image\n",
    "n_rows, n_cols, n_channels =hsi.shape\n",
    "\n",
    "n_samples =1000\n",
    "# draw random samples and load them as a data array\n",
    "x_idx = np.random.randint(0, n_cols, size=n_samples)\n",
    "y_idx = np.random.randint(0, n_rows, size=n_samples)\n",
    "spectral_samples = np.zeros((n_samples, n_channels), dtype=hsi.dtype)\n",
    "coords = list(zip(y_idx, x_idx))\n",
    "spectral_samples = np.array(HSIreader.extract_pixels(coords))"
   ]
  },
  {
   "cell_type": "code",
   "execution_count": 18,
   "metadata": {},
   "outputs": [],
   "source": [
    "plt.figure()\n",
    "for i in range(n_samples):\n",
    "    plt.plot(wv, spectral_samples[i, :], label=f'Sample {i+1}' if i < 5 else \"\", alpha=0.6)\n",
    "plt.xlabel(\"Wavelength\")\n",
    "plt.ylabel(\"Absorbance\")\n",
    "plt.title(\"Spectral samples\")\n",
    "plt.show(block=False)\n"
   ]
  },
  {
   "cell_type": "code",
   "execution_count": 20,
   "metadata": {},
   "outputs": [],
   "source": [
    "#perform PCA\n",
    "#In PCA space data X= TP' i.e. factorial decomposition into loadings (vectorial subspaces) and scores (orthogonal distances to loadings)\n",
    "\n",
    "nb_pca_comp =3\n",
    "pca = PCA(n_components=nb_pca_comp)\n",
    "pca_scores = pca.fit_transform(spectral_samples)\n",
    "pca_loadings =pca.components_.T*np.sqrt(pca.explained_variance_) \n",
    "      \n",
    "default_colors = plt.rcParams['axes.prop_cycle'].by_key()['color']\n",
    "plt.figure()\n",
    "for i in range(np.shape(pca_loadings)[1]):\n",
    "    lab= 'PC'+str(i+1)\n",
    "    plt.plot(wv,pca_loadings[:,i],default_colors[i], label=lab)\n",
    "plt.xlabel(\"Wavelength (nm)\")\n",
    "plt.ylabel(\"Absorbance\")  \n",
    "plt.grid()\n",
    "plt.title('Principal components')  \n",
    "plt.show(block=False)\n",
    "\n",
    "#Or plot one by one to avoid Variance scaling\n",
    "default_colors = plt.rcParams['axes.prop_cycle'].by_key()['color']\n",
    "for i in range(np.shape(pca_loadings)[1]):\n",
    "    plt.figure()\n",
    "    plt.plot(wv,pca_loadings[:,i],default_colors[i])\n",
    "    plt.xlabel(\"Wavelength (nm)\")\n",
    "    plt.ylabel(\"Absorbance\")  \n",
    "    lab= 'PC'+str(i+1)\n",
    "    plt.title(lab) \n",
    "    plt.grid()  \n",
    "plt.show()"
   ]
  },
  {
   "cell_type": "code",
   "execution_count": 21,
   "metadata": {},
   "outputs": [],
   "source": [
    "# Plot the score distribution according to PCi / PCj\n",
    "plt.figure()\n",
    "plt.scatter(pca_scores[:, 0], pca_scores[:, 1], alpha=0.6, c='blue', edgecolor='k', s=50)\n",
    "plt.xlabel(\"PC1\")\n",
    "plt.ylabel(\"PC2\")\n",
    "plt.title(\"Score Plot PC1/PC2\")\n",
    "plt.grid()\n",
    "plt.show(block=False)"
   ]
  },
  {
   "cell_type": "code",
   "execution_count": 22,
   "metadata": {},
   "outputs": [],
   "source": [
    "plt.figure()\n",
    "plt.scatter(pca_scores[:, 1], pca_scores[:, 2], alpha=0.6, c='blue', edgecolor='k', s=50)\n",
    "plt.xlabel(\"PC2\")\n",
    "plt.ylabel(\"PC3\")\n",
    "plt.title(\"Score Plot PC2/PC3\")\n",
    "plt.grid()\n",
    "plt.show(block=False)"
   ]
  },
  {
   "cell_type": "code",
   "execution_count": 23,
   "metadata": {},
   "outputs": [],
   "source": [
    "#project HSI on PCA loadings -> obtain global scores (If n_samples too small, resample)\n",
    "\n",
    "score_img = HSIreader.project_pca_scores(pca_loadings)\n",
    "for s in range(pca_loadings.shape[1]):\n",
    "        plt.figure()\n",
    "        plt.imshow(score_img[:,:,s])\n",
    "        plt.title(f'Score image PC{s+1}')\n",
    "        plt.axis('off')\n",
    "        plt.show(block=False)"
   ]
  },
  {
   "cell_type": "code",
   "execution_count": null,
   "metadata": {},
   "outputs": [],
   "source": []
  }
 ],
 "metadata": {
  "kernelspec": {
   "display_name": "agrotic_env",
   "language": "python",
   "name": "python3"
  },
  "language_info": {
   "codemirror_mode": {
    "name": "ipython",
    "version": 3
   },
   "file_extension": ".py",
   "mimetype": "text/x-python",
   "name": "python",
   "nbconvert_exporter": "python",
   "pygments_lexer": "ipython3",
   "version": "3.11.5"
  }
 },
 "nbformat": 4,
 "nbformat_minor": 2
}
